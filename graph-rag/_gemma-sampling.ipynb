{
 "cells": [
  {
   "cell_type": "markdown",
   "metadata": {
    "id": "SC77q_zBESaM"
   },
   "source": [
    "Copyright 2024 DeepMind Technologies Limited.\n",
    "\n",
    "Licensed under the Apache License, Version 2.0 (the \"License\"); you may not use this file except in compliance with the License. You may obtain a copy of the License at\n",
    "\n",
    "http://www.apache.org/licenses/LICENSE-2.0\n",
    "\n",
    "Unless required by applicable law or agreed to in writing, software distributed under the License is distributed on an \"AS IS\" BASIS, WITHOUT WARRANTIES OR CONDITIONS OF ANY KIND, either express or implied. See the License for the specific language governing permissions and limitations under the License.\n",
    "\n",
    "---"
   ]
  },
  {
   "cell_type": "markdown",
   "metadata": {
    "id": "TpESp4p5ESaM"
   },
   "source": [
    "# Getting Started with Gemma Sampling: A Step-by-Step Guide\n",
    "\n",
    "You will find in this colab a detailed tutorial explaining how to load a Gemma checkpoint and sample from it.\n",
    "\n"
   ]
  },
  {
   "cell_type": "markdown",
   "metadata": {
    "id": "2lFHiDvvESaM"
   },
   "source": [
    "## Setup\n",
    "\n",
    "Please follow installation instructions at https://github.com/google-deepmind/gemma/blob/main/README.md."
   ]
  },
  {
   "cell_type": "code",
   "execution_count": 1,
   "metadata": {
    "id": "O-sxcasvESaM",
    "ExecuteTime": {
     "end_time": "2024-02-26T14:01:54.337082Z",
     "start_time": "2024-02-26T14:01:54.333548Z"
    }
   },
   "outputs": [],
   "source": [
    "# @title Download the checkpoints\n",
    "# Download the Flax checkpoints from https://www.kaggle.com/models/google/gemma\n",
    "# and put the local paths below.\n",
    "\n",
    "ckpt_path = '/Users/es/Desktop/ml-playground/models/gemma/2b-it'\n",
    "vocab_path = '/Users/es/Desktop/ml-playground/models/gemma/tokenizer.model'\n"
   ]
  },
  {
   "cell_type": "code",
   "execution_count": 2,
   "metadata": {
    "id": "-jpTUa1YESaM",
    "ExecuteTime": {
     "end_time": "2024-02-26T14:02:48.134501Z",
     "start_time": "2024-02-26T14:02:47.910295Z"
    }
   },
   "outputs": [
    {
     "ename": "ImportError",
     "evalue": "cannot import name 'params' from 'gemma' (/Users/es/Library/Python/3.9/lib/python/site-packages/gemma/__init__.py)",
     "output_type": "error",
     "traceback": [
      "\u001B[0;31m---------------------------------------------------------------------------\u001B[0m",
      "\u001B[0;31mImportError\u001B[0m                               Traceback (most recent call last)",
      "Cell \u001B[0;32mIn[2], line 2\u001B[0m\n\u001B[1;32m      1\u001B[0m \u001B[38;5;66;03m# @title Python imports\u001B[39;00m\n\u001B[0;32m----> 2\u001B[0m \u001B[38;5;28;01mfrom\u001B[39;00m \u001B[38;5;21;01mgemma\u001B[39;00m \u001B[38;5;28;01mimport\u001B[39;00m params \u001B[38;5;28;01mas\u001B[39;00m params_lib\n\u001B[1;32m      3\u001B[0m \u001B[38;5;28;01mfrom\u001B[39;00m \u001B[38;5;21;01mgemma\u001B[39;00m \u001B[38;5;28;01mimport\u001B[39;00m sampler \u001B[38;5;28;01mas\u001B[39;00m sampler_lib\n\u001B[1;32m      4\u001B[0m \u001B[38;5;28;01mfrom\u001B[39;00m \u001B[38;5;21;01mgemma\u001B[39;00m \u001B[38;5;28;01mimport\u001B[39;00m transformer \u001B[38;5;28;01mas\u001B[39;00m transformer_lib\n",
      "\u001B[0;31mImportError\u001B[0m: cannot import name 'params' from 'gemma' (/Users/es/Library/Python/3.9/lib/python/site-packages/gemma/__init__.py)"
     ]
    }
   ],
   "source": [
    "# @title Python imports\n",
    "from gemma import params as params_lib\n",
    "from gemma import sampler as sampler_lib\n",
    "from gemma import transformer as transformer_lib\n",
    "import sentencepiece as spm"
   ]
  },
  {
   "cell_type": "markdown",
   "metadata": {
    "id": "4fDQsC87ESaN"
   },
   "source": [
    "## Start Generating with Your Model\n",
    "\n",
    "Load and prepare your LLM's checkpoint for use with Flax."
   ]
  },
  {
   "cell_type": "code",
   "execution_count": null,
   "metadata": {
    "cellView": "form",
    "id": "57nMYQ4HESaN"
   },
   "outputs": [],
   "source": [
    "# Load parameters\n",
    "params = params_lib.load_and_format_params(ckpt_path)"
   ]
  },
  {
   "cell_type": "markdown",
   "metadata": {
    "id": "NWJ3UvHXESaN"
   },
   "source": [
    "Load your tokenizer, which we'll construct using the [SentencePiece](https://github.com/google/sentencepiece) library."
   ]
  },
  {
   "cell_type": "code",
   "execution_count": null,
   "metadata": {
    "cellView": "form",
    "id": "khXrjEF0ESaN"
   },
   "outputs": [],
   "source": [
    "vocab = spm.SentencePieceProcessor()\n",
    "vocab.Load(vocab_path)"
   ]
  },
  {
   "cell_type": "markdown",
   "metadata": {
    "id": "tCRtZMg0ESaN"
   },
   "source": [
    "Use the `transformer_lib.TransformerConfig.from_params` function to automatically load the correct configuration from a checkpoint. Note that the vocabulary size is smaller than the number of input embeddings due to unused tokens in this release."
   ]
  },
  {
   "cell_type": "code",
   "execution_count": null,
   "metadata": {
    "cellView": "form",
    "id": "7InOzQtcESaN"
   },
   "outputs": [],
   "source": [
    "transformer_config=transformer_lib.TransformerConfig.from_params(\n",
    "    params,\n",
    "    cache_size=1024  # Number of time steps in the transformer's cache\n",
    ")\n",
    "transformer = transformer_lib.Transformer(transformer_config)"
   ]
  },
  {
   "cell_type": "markdown",
   "metadata": {
    "id": "KaU-X3_jESaN"
   },
   "source": [
    "Finally, build a sampler on top of your model and your tokenizer."
   ]
  },
  {
   "cell_type": "code",
   "execution_count": null,
   "metadata": {
    "cellView": "form",
    "id": "bdstASGrESaN"
   },
   "outputs": [],
   "source": [
    "# Create a sampler with the right param shapes.\n",
    "sampler = sampler_lib.Sampler(\n",
    "    transformer=transformer,\n",
    "    vocab=vocab,\n",
    "    params=params['transformer'],\n",
    ")"
   ]
  },
  {
   "cell_type": "markdown",
   "metadata": {
    "id": "C1fLns-_ESaN"
   },
   "source": [
    "You're ready to start sampling ! This sampler uses just-in-time compilation, so changing the input shape triggers recompilation, which can slow things down. For the fastest and most efficient results, keep your batch size consistent."
   ]
  },
  {
   "cell_type": "code",
   "execution_count": null,
   "metadata": {
    "cellView": "form",
    "id": "qA0BhNQvESaN"
   },
   "outputs": [],
   "source": [
    "input_batch = [\n",
    "    \"\\n# Python program for implementation of Bubble Sort\\n\\ndef bubbleSort(arr):\",\n",
    "    \"What are the planets of the solar system?\",\n",
    "  ]\n",
    "\n",
    "out_data = sampler(\n",
    "    input_strings=input_batch,\n",
    "    total_generation_steps=300,  # number of steps performed when generating\n",
    "  )\n",
    "\n",
    "for input_string, out_string in zip(input_batch, out_data.text):\n",
    "  print(f\"Prompt:\\n{input_string}\\nOutput:\\n{out_string}\")\n",
    "  print()\n",
    "  print(10*'#')"
   ]
  },
  {
   "cell_type": "markdown",
   "metadata": {
    "id": "tqbJ1SUcESaN"
   },
   "source": [
    "You should get an implementation of bubble sort and a description of the solar system.\n"
   ]
  }
 ],
 "metadata": {
  "colab": {
   "private_outputs": true,
   "provenance": []
  },
  "kernelspec": {
   "name": "python3",
   "language": "python",
   "display_name": "Python 3 (ipykernel)"
  }
 },
 "nbformat": 4,
 "nbformat_minor": 0
}
