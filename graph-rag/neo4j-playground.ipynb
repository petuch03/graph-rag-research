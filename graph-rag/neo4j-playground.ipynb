{
 "cells": [
  {
   "cell_type": "code",
   "execution_count": 2,
   "id": "initial_id",
   "metadata": {
    "ExecuteTime": {
     "end_time": "2024-02-12T11:54:29.003556Z",
     "start_time": "2024-02-12T11:54:15.921796Z"
    },
    "collapsed": true
   },
   "outputs": [
    {
     "name": "stdout",
     "output_type": "stream",
     "text": [
      "Defaulting to user installation because normal site-packages is not writeable\n",
      "Requirement already satisfied: neo4j in /Users/es/Library/Python/3.9/lib/python/site-packages (5.17.0)\n",
      "Requirement already satisfied: pytz in /Library/Python/3.9/site-packages (from neo4j) (2023.3.post1)\n",
      "\n",
      "\u001b[1m[\u001b[0m\u001b[34;49mnotice\u001b[0m\u001b[1;39;49m]\u001b[0m\u001b[39;49m A new release of pip is available: \u001b[0m\u001b[31;49m23.3.1\u001b[0m\u001b[39;49m -> \u001b[0m\u001b[32;49m24.0\u001b[0m\n",
      "\u001b[1m[\u001b[0m\u001b[34;49mnotice\u001b[0m\u001b[1;39;49m]\u001b[0m\u001b[39;49m To update, run: \u001b[0m\u001b[32;49mpython3 -m pip install --upgrade pip\u001b[0m\n"
     ]
    }
   ],
   "source": [
    "!pip3 install neo4j"
   ]
  },
  {
   "cell_type": "code",
   "execution_count": 22,
   "id": "4d0797cd951db514",
   "metadata": {
    "ExecuteTime": {
     "end_time": "2024-02-12T12:01:42.221868Z",
     "start_time": "2024-02-12T12:01:04.619856Z"
    },
    "collapsed": false
   },
   "outputs": [],
   "source": [
    "from neo4j import GraphDatabase\n",
    "\n",
    "class HelloWorldExample:\n",
    "\n",
    "    def __init__(self, uri, user, password):\n",
    "        self.driver = GraphDatabase.driver(uri, auth=(user, password))\n",
    "\n",
    "    def close(self):\n",
    "        self.driver.close()\n",
    "\n",
    "    def create_friendship(self, person1_name, person2_name):\n",
    "        with self.driver.session() as session:\n",
    "            greeting = session.execute_write(self._create_and_return_friendship, person1_name, person2_name)\n",
    "            print(greeting)\n",
    "\n",
    "    @staticmethod\n",
    "    def _create_and_return_friendship(tx, person1_name, person2_name):\n",
    "        query = (\n",
    "            \"CREATE (p1:Person {name: $person1_name}) \"\n",
    "            \"CREATE (p2:Person {name: $person2_name}) \"\n",
    "            \"CREATE (p1)-[:FRIEND]->(p2) \"\n",
    "            \"RETURN p1.name AS person1, p2.name AS person2\"\n",
    "        )\n",
    "        result = tx.run(query, person1_name=person1_name, person2_name=person2_name).single()\n",
    "        if result is None:\n",
    "            return \"No result found.\"\n",
    "        return f\"Created friendship between: {result['person1']} and {result['person2']}\"\n",
    "    \n",
    "    def find_persons(self):\n",
    "        with self.driver.session() as session:\n",
    "            persons = session.execute_read(self._find_and_return_persons)\n",
    "            for person in persons:\n",
    "                print(f\"Found person: {person}\")\n",
    "            \n",
    "    @staticmethod\n",
    "    def _find_and_return_persons(tx):\n",
    "        query = (\n",
    "            \"MATCH (person:Person) \"\n",
    "            \"RETURN person.name AS name\"\n",
    "        )\n",
    "        result = tx.run(query)\n",
    "        return [record[\"name\"] for record in result]\n",
    "    \n",
    "    def erase_database(self):\n",
    "        with self.driver.session() as session:\n",
    "            session.execute_write(self._erase_all)\n",
    "\n",
    "    @staticmethod\n",
    "    def _erase_all(tx):\n",
    "        query = \"MATCH (n) DETACH DELETE n\"\n",
    "        tx.run(query)\n",
    "\n",
    "    def execute_custom(self, cypher_query):\n",
    "        query_type = \"insert\" if \"CREATE\" in cypher_query or \"MERGE\" in cypher_query else \"extract\"\n",
    "        \n",
    "        with self.driver.session() as session:\n",
    "            result = session.run(cypher_query)\n",
    "            \n",
    "            if query_type == \"insert\":\n",
    "                return \"Data insertion successful.\"\n",
    "            else:\n",
    "                return [record.data() for record in result]\n",
    "\n",
    "# Replace 'neo4j://localhost:7687', 'neo4j', 'password' with your connection URI, username, and password\n",
    "app = HelloWorldExample('neo4j://localhost:7687/graph-rag-test', 'neo4j', '12345678')"
   ]
  },
  {
   "cell_type": "code",
   "execution_count": 30,
   "id": "fcd5d329",
   "metadata": {},
   "outputs": [
    {
     "name": "stdout",
     "output_type": "stream",
     "text": [
      "Created friendship between: Alice and Bob\n"
     ]
    }
   ],
   "source": [
    "app.create_friendship('Alice', 'Bob')"
   ]
  },
  {
   "cell_type": "code",
   "execution_count": 29,
   "id": "00468ee6",
   "metadata": {},
   "outputs": [],
   "source": [
    "app.find_persons()"
   ]
  },
  {
   "cell_type": "code",
   "execution_count": 25,
   "id": "f95ed73e",
   "metadata": {},
   "outputs": [],
   "source": [
    "app.erase_database()"
   ]
  },
  {
   "cell_type": "code",
   "execution_count": 31,
   "id": "b4e3c7b6",
   "metadata": {},
   "outputs": [
    {
     "data": {
      "text/plain": [
       "'Data insertion successful.'"
      ]
     },
     "execution_count": 31,
     "metadata": {},
     "output_type": "execute_result"
    }
   ],
   "source": [
    "extracted_cypher = \"\"\"CREATE (method:Method {name: \"reasoning on graphs\", description: \"a novel method that synergizes LLMs with KGs to conduct faithful and interpretable reasoning\"})\n",
    "CREATE (framework:Framework {name: \"planning-retrieval-reasoning\", description: \"a framework that generates relation paths grounded by KGs as faithful plans and retrieves valid reasoning paths from KGs to conduct faithful reasoning\"})\n",
    "CREATE (modulePlanning:Module {name: \"planning\", description: \"a module that generates relation paths as plans\"})\n",
    "CREATE (modulePlanning)-[:PART_OF]->(framework)\n",
    "CREATE (framework)-[:USES]->(method)\n",
    "CREATE (moduleRetrievalReasoning:Module {name: \"retrieval-reasoning\", description: \"a module that retrieves reasoning paths from KGs to conduct faithful reasoning\"})\n",
    "CREATE (moduleRetrievalReasoning)-[:PART_OF]->(framework)\n",
    "CREATE (framework)-[:USES]->(method)\n",
    "CREATE (moduleInference:Module {name: \"inference\", description: \"a module that can be plug-and-play with different LLMs to improve their performance\"})\n",
    "CREATE (moduleInference)-[:PART_OF]->(method)\n",
    "CREATE (benchmark:Dataset {name: \"KGQA datasets\", description: \"benchmark datasets for KGQA\"})\n",
    "CREATE (taskPlanningOptimization:Task {name: \"planning optimization\", description: \"optimization task where knowledge is distilled from KGs into LLMs to generate faithful relation paths as plans\"})\n",
    "CREATE (taskPlanningOptimization)-[:OPTIMIZES]->(method)\n",
    "CREATE (taskRetrievalReasoningOptimization:Task {name: \"retrieval-reasoning optimization\", description: \"optimization task where LLMs conduct faithful reasoning based on retrieved paths and generate interpretable results\"})\n",
    "CREATE (taskRetrievalReasoningOptimization)-[:OPTIMIZES]->(method)\n",
    "CREATE (performanceSOTA:PerformanceMetric {name: \"state-of-the-art performance\", description: \"achieving the best performance in KG reasoning tasks\"})\n",
    "CREATE (performanceSOTA)-[:ACHIEVED_BY]->(method)\n",
    "CREATE (performanceFaithful:PerformanceMetric {name: \"faithful and interpretable reasoning results\", description: \"generating reasoning results that are faithful and interpretable\"})\n",
    "CREATE (performanceFaithful)-[:ACHIEVED_BY]->(method)\n",
    "\"\"\"\n",
    "app.execute_custom(cypher_query=extracted_cypher)"
   ]
  },
  {
   "cell_type": "code",
   "execution_count": 32,
   "id": "07bc9cb4",
   "metadata": {},
   "outputs": [],
   "source": [
    "retreive_issues_cypher = \"\"\"MATCH (source)-[r:OPTIMIZES]->(target)\n",
    "RETURN source, r, target\n",
    "\"\"\"\n",
    "result = app.execute_custom(cypher_query=retreive_issues_cypher)"
   ]
  },
  {
   "cell_type": "code",
   "execution_count": 33,
   "id": "ee3b1dea",
   "metadata": {},
   "outputs": [
    {
     "name": "stdout",
     "output_type": "stream",
     "text": [
      "[{'source': {'name': 'planning optimization', 'description': 'optimization task where knowledge is distilled from KGs into LLMs to generate faithful relation paths as plans'}, 'r': ({'name': 'planning optimization', 'description': 'optimization task where knowledge is distilled from KGs into LLMs to generate faithful relation paths as plans'}, 'OPTIMIZES', {'name': 'reasoning on graphs', 'description': 'a novel method that synergizes LLMs with KGs to conduct faithful and interpretable reasoning'}), 'target': {'name': 'reasoning on graphs', 'description': 'a novel method that synergizes LLMs with KGs to conduct faithful and interpretable reasoning'}}, {'source': {'name': 'retrieval-reasoning optimization', 'description': 'optimization task where LLMs conduct faithful reasoning based on retrieved paths and generate interpretable results'}, 'r': ({'name': 'retrieval-reasoning optimization', 'description': 'optimization task where LLMs conduct faithful reasoning based on retrieved paths and generate interpretable results'}, 'OPTIMIZES', {'name': 'reasoning on graphs', 'description': 'a novel method that synergizes LLMs with KGs to conduct faithful and interpretable reasoning'}), 'target': {'name': 'reasoning on graphs', 'description': 'a novel method that synergizes LLMs with KGs to conduct faithful and interpretable reasoning'}}]\n"
     ]
    }
   ],
   "source": [
    "print(result)"
   ]
  },
  {
   "cell_type": "code",
   "execution_count": 34,
   "id": "47318071",
   "metadata": {},
   "outputs": [
    {
     "name": "stdout",
     "output_type": "stream",
     "text": [
      "[{'source': {'nationality': 'Kenyan', 'birth_date': neo4j.time.Date(1999, 12, 2), 'name': 'Kelvin Kiptum Cheruiyot', 'death_date': neo4j.time.Date(2024, 2, 11)}, 'r': ({'nationality': 'Kenyan', 'birth_date': neo4j.time.Date(1999, 12, 2), 'name': 'Kelvin Kiptum Cheruiyot', 'death_date': neo4j.time.Date(2024, 2, 11)}, 'PARTICIPATED_IN', {'date': neo4j.time.Date(2022, 10, 23), 'name': 'Valencia Marathon 2022', 'rank': 'third', 'time': '2:02'}), 'target': {'date': neo4j.time.Date(2022, 10, 23), 'name': 'Valencia Marathon 2022', 'rank': 'third', 'time': '2:02'}}, {'source': {'nationality': 'Kenyan', 'birth_date': neo4j.time.Date(1999, 12, 2), 'name': 'Kelvin Kiptum Cheruiyot', 'death_date': neo4j.time.Date(2024, 2, 11)}, 'r': ({'nationality': 'Kenyan', 'birth_date': neo4j.time.Date(1999, 12, 2), 'name': 'Kelvin Kiptum Cheruiyot', 'death_date': neo4j.time.Date(2024, 2, 11)}, 'PARTICIPATED_IN', {'date': neo4j.time.Date(2023, 4, 23), 'name': 'London Marathon 2023', 'rank': 'second', 'time': '2:01:25'}), 'target': {'date': neo4j.time.Date(2023, 4, 23), 'name': 'London Marathon 2023', 'rank': 'second', 'time': '2:01:25'}}, {'source': {'nationality': 'Kenyan', 'birth_date': neo4j.time.Date(1999, 12, 2), 'name': 'Kelvin Kiptum Cheruiyot', 'death_date': neo4j.time.Date(2024, 2, 11)}, 'r': ({'nationality': 'Kenyan', 'birth_date': neo4j.time.Date(1999, 12, 2), 'name': 'Kelvin Kiptum Cheruiyot', 'death_date': neo4j.time.Date(2024, 2, 11)}, 'PARTICIPATED_IN', {'date': neo4j.time.Date(2023, 10, 23), 'name': 'Chicago Marathon 2023', 'rank': 'first', 'time': '2:00:35'}), 'target': {'date': neo4j.time.Date(2023, 10, 23), 'name': 'Chicago Marathon 2023', 'rank': 'first', 'time': '2:00:35'}}]\n"
     ]
    }
   ],
   "source": [
    "app.execute_custom(cypher_query=\"\"\"CREATE (runner:Runner {name: \"Kelvin Kiptum Cheruiyot\", nationality: \"Kenyan\", birth_date: date(\"1999-12-02\"), death_date: date(\"2024-02-11\")})\n",
    "CREATE (record:Record {event: \"marathon\", time: \"less than 2:02\", record_type: \"course record\"})\n",
    "CREATE (runner)-[:HOLDS_RECORD]->(record)\n",
    "CREATE (achievement:Achievement {description: \"the only person in history to run the marathon in less than two hours and one minute in a record-eligible race\"})\n",
    "CREATE (runner)-[:ACHIEVED]->(achievement)\n",
    "CREATE (race1:Race {name: \"Valencia Marathon 2022\", date: date(\"2022-10-23\"), time: \"2:02\", rank: \"third\"})\n",
    "CREATE (runner)-[:PARTICIPATED_IN]->(race1)\n",
    "CREATE (race2:Race {name: \"London Marathon 2023\", date: date(\"2023-04-23\"), time: \"2:01:25\", rank: \"second\"})\n",
    "CREATE (runner)-[:PARTICIPATED_IN]->(race2)\n",
    "CREATE (race3:Race {name: \"Chicago Marathon 2023\", date: date(\"2023-10-23\"), time: \"2:00:35\", rank: \"first\"})\n",
    "CREATE (runner)-[:PARTICIPATED_IN]->(race3)\n",
    "CREATE (ranking:Ranking {rank: 1, year: 2024, event: \"men's marathon\"})\n",
    "CREATE (runner)-[:RANKED_FIRST_IN]->(ranking)\n",
    "\"\"\")\n",
    "result = app.execute_custom(cypher_query=\"\"\"MATCH (source)-[r:PARTICIPATED_IN]->(target)\n",
    "RETURN source, r, target\n",
    "\"\"\")\n",
    "print(result)"
   ]
  },
  {
   "cell_type": "code",
   "execution_count": 35,
   "id": "3ad9c089",
   "metadata": {},
   "outputs": [
    {
     "name": "stdout",
     "output_type": "stream",
     "text": [
      "Defaulting to user installation because normal site-packages is not writeable\n",
      "Requirement already satisfied: networkx in /Users/es/Library/Python/3.9/lib/python/site-packages (3.2.1)\n",
      "Requirement already satisfied: matplotlib in /Users/es/Library/Python/3.9/lib/python/site-packages (3.7.1)\n",
      "Requirement already satisfied: contourpy>=1.0.1 in /Users/es/Library/Python/3.9/lib/python/site-packages (from matplotlib) (1.0.7)\n",
      "Requirement already satisfied: cycler>=0.10 in /Users/es/Library/Python/3.9/lib/python/site-packages (from matplotlib) (0.11.0)\n",
      "Requirement already satisfied: fonttools>=4.22.0 in /Users/es/Library/Python/3.9/lib/python/site-packages (from matplotlib) (4.39.3)\n",
      "Requirement already satisfied: kiwisolver>=1.0.1 in /Users/es/Library/Python/3.9/lib/python/site-packages (from matplotlib) (1.4.4)\n",
      "Requirement already satisfied: numpy>=1.20 in /Users/es/Library/Python/3.9/lib/python/site-packages (from matplotlib) (1.24.3)\n",
      "Requirement already satisfied: packaging>=20.0 in /Users/es/Library/Python/3.9/lib/python/site-packages (from matplotlib) (23.2)\n",
      "Requirement already satisfied: pillow>=6.2.0 in /Users/es/Library/Python/3.9/lib/python/site-packages (from matplotlib) (9.5.0)\n",
      "Requirement already satisfied: pyparsing>=2.3.1 in /Users/es/Library/Python/3.9/lib/python/site-packages (from matplotlib) (3.0.9)\n",
      "Requirement already satisfied: python-dateutil>=2.7 in /Users/es/Library/Python/3.9/lib/python/site-packages (from matplotlib) (2.8.2)\n",
      "Requirement already satisfied: importlib-resources>=3.2.0 in /Users/es/Library/Python/3.9/lib/python/site-packages (from matplotlib) (5.12.0)\n",
      "Requirement already satisfied: zipp>=3.1.0 in /Users/es/Library/Python/3.9/lib/python/site-packages (from importlib-resources>=3.2.0->matplotlib) (3.15.0)\n",
      "Requirement already satisfied: six>=1.5 in /Library/Developer/CommandLineTools/Library/Frameworks/Python3.framework/Versions/3.9/lib/python3.9/site-packages (from python-dateutil>=2.7->matplotlib) (1.15.0)\n",
      "\n",
      "\u001b[1m[\u001b[0m\u001b[34;49mnotice\u001b[0m\u001b[1;39;49m]\u001b[0m\u001b[39;49m A new release of pip is available: \u001b[0m\u001b[31;49m23.3.1\u001b[0m\u001b[39;49m -> \u001b[0m\u001b[32;49m24.0\u001b[0m\n",
      "\u001b[1m[\u001b[0m\u001b[34;49mnotice\u001b[0m\u001b[1;39;49m]\u001b[0m\u001b[39;49m To update, run: \u001b[0m\u001b[32;49mpython3 -m pip install --upgrade pip\u001b[0m\n"
     ]
    }
   ],
   "source": [
    "!pip3 install networkx matplotlib"
   ]
  },
  {
   "cell_type": "code",
   "execution_count": 54,
   "id": "f199cb06",
   "metadata": {},
   "outputs": [
    {
     "data": {
      "image/png": "[encoded data removed]",
      "text/plain": [
       "<Figure size 640x480 with 1 Axes>"
      ]
     },
     "metadata": {},
     "output_type": "display_data"
    }
   ],
   "source": [
    "import networkx as nx\n",
    "import matplotlib.pyplot as plt\n",
    "\n",
    "def visualize_graph_data(data):\n",
    "    G = nx.DiGraph()\n",
    "\n",
    "    for item in data:\n",
    "        source_name = None\n",
    "        try:\n",
    "            source_name = item['source']['name']\n",
    "        except KeyError:\n",
    "            source_name = str(item['source'])\n",
    "\n",
    "        target_name = None\n",
    "        try:\n",
    "            target_name = item['target']['name']\n",
    "        except KeyError:\n",
    "            target_name = str(item['target'])\n",
    "        relationship = item['r'][1]  # Assuming 'r' contains the relationship type in the second position\n",
    "        \n",
    "        # Add nodes\n",
    "        G.add_node(source_name, **item['source'])\n",
    "        G.add_node(target_name, **item['target'])\n",
    "        \n",
    "        # Add edge\n",
    "        G.add_edge(source_name, target_name, relationship=relationship)\n",
    "\n",
    "    pos = nx.spring_layout(G)  # positions for all nodes\n",
    "\n",
    "    # Nodes\n",
    "    nx.draw_networkx_nodes(G, pos, node_size=5000, node_color=\"skyblue\", alpha=0.6)\n",
    "    \n",
    "    # Edges\n",
    "    nx.draw_networkx_edges(G, pos, width=2, alpha=0.5, edge_color=\"gray\")\n",
    "    \n",
    "    # Node labels\n",
    "    nx.draw_networkx_labels(G, pos, font_size=10)\n",
    "    \n",
    "    # Edge labels\n",
    "    edge_labels = nx.get_edge_attributes(G, 'relationship')\n",
    "    nx.draw_networkx_edge_labels(G, pos, edge_labels=edge_labels)\n",
    "\n",
    "    plt.axis('off')\n",
    "    plt.show()\n",
    "\n",
    "visualize_graph_data(result)\n"
   ]
  },
  {
   "cell_type": "code",
   "execution_count": 55,
   "id": "fda67b3a",
   "metadata": {},
   "outputs": [
    {
     "name": "stdout",
     "output_type": "stream",
     "text": [
      "[{'source': {'nationality': 'Kenyan', 'name': 'Kelvin Kiptum Cheruiyot'}, 'r': ({'nationality': 'Kenyan', 'name': 'Kelvin Kiptum Cheruiyot'}, 'DIES_IN', {'date': 'February 2024'}), 'target': {'date': 'February 2024'}}]\n"
     ]
    },
    {
     "data": {
      "image/png": "[encoded data removed]",
      "text/plain": [
       "<Figure size 640x480 with 1 Axes>"
      ]
     },
     "metadata": {},
     "output_type": "display_data"
    }
   ],
   "source": [
    "app.erase_database()\n",
    "app.execute_custom(cypher_query=\"\"\"CREATE (runner:Runner {name: \"Kelvin Kiptum Cheruiyot\", nationality: \"Kenyan\"})\n",
    "CREATE (record:MarathonRecord {time: \"less than two hours and one minute\", date: \"before February 2024\"})\n",
    "CREATE (runner)-[:HOLDS_RECORD]->(record)\n",
    "CREATE (achievement:MarathonAchievement {description: \"ran three of the seven fastest marathons in history\"})\n",
    "CREATE (runner)-[:ACHIEVES]->(achievement)\n",
    "CREATE (marathon1:Marathon {name: \"Valencia Marathon\", year: 2022})\n",
    "CREATE (marathon2:Marathon {name: \"London Marathon\", year: 2023})\n",
    "CREATE (marathon3:Marathon {name: \"Chicago Marathon\", year: 2023})\n",
    "CREATE (runner)-[:PARTICIPATED_IN]->(marathon1)\n",
    "CREATE (runner)-[:PARTICIPATED_IN]->(marathon2)\n",
    "CREATE (runner)-[:PARTICIPATED_IN]->(marathon3)\n",
    "CREATE (marathon1)-[:FASTEST_TIME]->(time1:Time {time: \"2:02\"})\n",
    "CREATE (marathon2)-[:FASTEST_TIME]->(time2:Time {time: \"2:01:25\"})\n",
    "CREATE (marathon3)-[:FASTEST_TIME]->(time3:Time {time: \"2:00:35\"})\n",
    "CREATE (achievement)-[:ACHIEVES_TIME]->(time1)\n",
    "CREATE (achievement)-[:ACHIEVES_TIME]->(time2)\n",
    "CREATE (achievement)-[:ACHIEVES_TIME]->(time3)\n",
    "CREATE (debut:MarathonDebut {marathon: \"Valencia Marathon\", time: \"2:02\", description: \"fastest-ever marathon debut\"})\n",
    "CREATE (runner)-[:ACHIEVES]->(debut)\n",
    "CREATE (runner)-[:BREAKS_RECORD]->(record)\n",
    "CREATE (crash:CarCrash {date: \"February 2024\"})\n",
    "CREATE (runner)-[:DIES_IN]->(crash)\n",
    "CREATE (ranking:MarathonRanking {rank: 1, year: 2024})\n",
    "CREATE (runner)-[:RANKED_FIRST_IN]->(ranking)\"\"\")\n",
    "result_llm = app.execute_custom(cypher_query=\"\"\"MATCH (source)-[r:DIES_IN]->(target)\n",
    "RETURN source, r, target\n",
    "\"\"\")\n",
    "print(result_llm)\n",
    "visualize_graph_data(result_llm)"
   ]
  },
  {
   "cell_type": "code",
   "execution_count": 20,
   "id": "915120cdad11ad74",
   "metadata": {
    "collapsed": false
   },
   "outputs": [],
   "source": [
    "app.close()"
   ]
  },
  {
   "cell_type": "code",
   "execution_count": null,
   "id": "e5d63e30",
   "metadata": {},
   "outputs": [],
   "source": []
  }
 ],
 "metadata": {
  "kernelspec": {
   "display_name": "Python 3 (ipykernel)",
   "language": "python",
   "name": "python3"
  },
  "language_info": {
   "codemirror_mode": {
    "name": "ipython",
    "version": 3
   },
   "file_extension": ".py",
   "mimetype": "text/x-python",
   "name": "python",
   "nbconvert_exporter": "python",
   "pygments_lexer": "ipython3",
   "version": "3.9.6"
  }
 },
 "nbformat": 4,
 "nbformat_minor": 5
}
